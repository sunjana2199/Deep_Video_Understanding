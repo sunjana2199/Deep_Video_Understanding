{
 "cells": [
  {
   "cell_type": "code",
   "execution_count": 1,
   "id": "d0c17340",
   "metadata": {},
   "outputs": [],
   "source": [
    "import cv2\n",
    "import os"
   ]
  },
  {
   "cell_type": "code",
   "execution_count": 2,
   "id": "3c3e058c",
   "metadata": {},
   "outputs": [],
   "source": [
    "with open (\"vtt_videos_urls.txt\", \"r\") as myfile:\n",
    "    data = myfile.read().splitlines()"
   ]
  },
  {
   "cell_type": "code",
   "execution_count": 3,
   "id": "ea4ca038",
   "metadata": {},
   "outputs": [],
   "source": [
    "for line in data:\n",
    "  url = line.split()[1]\n",
    "  vidcap = cv2.VideoCapture(url)\n",
    "  success,image = vidcap.read()\n",
    "  count = 0\n",
    "  while success:\n",
    "    path = os.getcwd() + '\\\\images\\\\'\n",
    "    if count == 1 or count == 40 or count ==70:\n",
    "      cv2.imwrite(path + line.split()[0] + '-' + str(count) + '.jpg', image)\n",
    "    success,image = vidcap.read()\n",
    "    count += 1"
   ]
  },
  {
   "cell_type": "code",
   "execution_count": null,
   "id": "9cef791a",
   "metadata": {},
   "outputs": [],
   "source": []
  }
 ],
 "metadata": {
  "kernelspec": {
   "display_name": "Python 3",
   "language": "python",
   "name": "python3"
  },
  "language_info": {
   "codemirror_mode": {
    "name": "ipython",
    "version": 3
   },
   "file_extension": ".py",
   "mimetype": "text/x-python",
   "name": "python",
   "nbconvert_exporter": "python",
   "pygments_lexer": "ipython3",
   "version": "3.8.8"
  },
  "toc": {
   "base_numbering": 1,
   "nav_menu": {},
   "number_sections": true,
   "sideBar": true,
   "skip_h1_title": false,
   "title_cell": "Table of Contents",
   "title_sidebar": "Contents",
   "toc_cell": false,
   "toc_position": {},
   "toc_section_display": true,
   "toc_window_display": false
  }
 },
 "nbformat": 4,
 "nbformat_minor": 5
}

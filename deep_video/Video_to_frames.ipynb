{
 "cells": [
  {
   "cell_type": "code",
   "execution_count": 36,
   "id": "d0c17340",
   "metadata": {},
   "outputs": [],
   "source": [
    "import cv2\n",
    "import os\n",
    "import numpy as np\n",
    "import pandas as pd\n",
    "import keras"
   ]
  },
  {
   "cell_type": "code",
   "execution_count": 47,
   "id": "efed1c1f",
   "metadata": {},
   "outputs": [],
   "source": [
    "import numpy as np\n",
    "from keras.utils import np_utils\n",
    "from keras.models import Model, Sequential, load_model\n",
    "from keras.layers import Dense, Conv2D, MaxPooling2D, Flatten, Reshape, Dropout\n",
    "from keras.preprocessing.image import ImageDataGenerator\n",
    "from keras.applications.vgg16 import VGG16\n",
    "# from keras.applications.resnet50 import ResNet50\n",
    "from sklearn.metrics import confusion_matrix, classification_report\n",
    "import itertools\n",
    "import cv2\n",
    "import numpy as np\n",
    "import pandas as pd\n",
    "import matplotlib.pyplot as plt"
   ]
  },
  {
   "cell_type": "code",
   "execution_count": 6,
   "id": "3c3e058c",
   "metadata": {},
   "outputs": [],
   "source": [
    "with open (\"vtt_videos_urls.txt\", \"r\") as myfile:\n",
    "    data = myfile.read().splitlines()"
   ]
  },
  {
   "cell_type": "code",
   "execution_count": 7,
   "id": "ea4ca038",
   "metadata": {},
   "outputs": [],
   "source": [
    "image_list = []\n",
    "for line in data:\n",
    "  url = line.split()[1]\n",
    "  vidcap = cv2.VideoCapture(url)\n",
    "  success,image = vidcap.read()\n",
    "  count = 0\n",
    "  while success:\n",
    "    path = os.getcwd() + '\\\\frames\\\\'\n",
    "    if count<80:\n",
    "        cv2.imwrite(path + line.split()[0] + '-' + str(count) + '.jpg', image)\n",
    "        image_list.append(path + line.split()[0] + '-' + str(count) + '.jpg')\n",
    "    success,image = vidcap.read()\n",
    "    count += 1"
   ]
  },
  {
   "cell_type": "code",
   "execution_count": 11,
   "id": "9cef791a",
   "metadata": {},
   "outputs": [],
   "source": [
    "df = pd.DataFrame(image_list)\n",
    "# df.to_csv('frames.csv')"
   ]
  },
  {
   "cell_type": "code",
   "execution_count": 48,
   "id": "af136045",
   "metadata": {},
   "outputs": [],
   "source": [
    "\n",
    "\n",
    "model = VGG16(weights=\"imagenet\", include_top=True, input_shape=(224, 224, 3))\n",
    "out = model.layers[-2].output\n",
    "model_final = Model(inputs=model.input, outputs=out)\n",
    "\n"
   ]
  },
  {
   "cell_type": "code",
   "execution_count": 56,
   "id": "47a45b32",
   "metadata": {},
   "outputs": [],
   "source": [
    "def load_image(path):\n",
    "    img = cv2.imread(path)\n",
    "    img = cv2.resize(img, (224, 224))\n",
    "    return img"
   ]
  },
  {
   "cell_type": "code",
   "execution_count": null,
   "id": "3fb05c4d",
   "metadata": {},
   "outputs": [],
   "source": [
    "def extract_features(model):\n",
    "    \"\"\"\n",
    "    :param video: The video whose frames are to be extracted to convert into a numpy array\n",
    "    :param model: the pretrained vgg16 model\n",
    "    :return: numpy array of size 4096x80\n",
    "    \"\"\"\n",
    "    \n",
    "    samples = np.round(np.linspace(0, 80))\n",
    "    image_list = [image_list[int(sample)] for sample in samples]\n",
    "    images = np.zeros((len(image_list), 224, 224, 3))\n",
    "    \n",
    "    for i in range(len(image_list)):\n",
    "        img = load_image(image_list[i])\n",
    "        images[i] = img\n",
    "    images = np.array(images)\n",
    "    fc_feats = model.predict(images, batch_size=128)\n",
    "    img_feats = np.array(fc_feats)\n",
    "    # cleanup\n",
    "    shutil.rmtree(os.path.join(config.test_path, 'temporary_images'))\n",
    "    return img_feats"
   ]
  },
  {
   "cell_type": "code",
   "execution_count": 64,
   "id": "bd2a0a57",
   "metadata": {},
   "outputs": [
    {
     "data": {
      "text/plain": [
       "['C:\\\\Users\\\\sunja\\\\OneDrive\\\\Documents\\\\Sem2\\\\Big Data\\\\videos\\\\frames\\\\1-0.jpg',\n",
       " 'C:\\\\Users\\\\sunja\\\\OneDrive\\\\Documents\\\\Sem2\\\\Big Data\\\\videos\\\\frames\\\\1-2.jpg',\n",
       " 'C:\\\\Users\\\\sunja\\\\OneDrive\\\\Documents\\\\Sem2\\\\Big Data\\\\videos\\\\frames\\\\1-3.jpg',\n",
       " 'C:\\\\Users\\\\sunja\\\\OneDrive\\\\Documents\\\\Sem2\\\\Big Data\\\\videos\\\\frames\\\\1-5.jpg',\n",
       " 'C:\\\\Users\\\\sunja\\\\OneDrive\\\\Documents\\\\Sem2\\\\Big Data\\\\videos\\\\frames\\\\1-7.jpg',\n",
       " 'C:\\\\Users\\\\sunja\\\\OneDrive\\\\Documents\\\\Sem2\\\\Big Data\\\\videos\\\\frames\\\\1-8.jpg',\n",
       " 'C:\\\\Users\\\\sunja\\\\OneDrive\\\\Documents\\\\Sem2\\\\Big Data\\\\videos\\\\frames\\\\1-10.jpg',\n",
       " 'C:\\\\Users\\\\sunja\\\\OneDrive\\\\Documents\\\\Sem2\\\\Big Data\\\\videos\\\\frames\\\\1-11.jpg',\n",
       " 'C:\\\\Users\\\\sunja\\\\OneDrive\\\\Documents\\\\Sem2\\\\Big Data\\\\videos\\\\frames\\\\1-13.jpg',\n",
       " 'C:\\\\Users\\\\sunja\\\\OneDrive\\\\Documents\\\\Sem2\\\\Big Data\\\\videos\\\\frames\\\\1-15.jpg',\n",
       " 'C:\\\\Users\\\\sunja\\\\OneDrive\\\\Documents\\\\Sem2\\\\Big Data\\\\videos\\\\frames\\\\1-16.jpg',\n",
       " 'C:\\\\Users\\\\sunja\\\\OneDrive\\\\Documents\\\\Sem2\\\\Big Data\\\\videos\\\\frames\\\\1-18.jpg',\n",
       " 'C:\\\\Users\\\\sunja\\\\OneDrive\\\\Documents\\\\Sem2\\\\Big Data\\\\videos\\\\frames\\\\1-20.jpg',\n",
       " 'C:\\\\Users\\\\sunja\\\\OneDrive\\\\Documents\\\\Sem2\\\\Big Data\\\\videos\\\\frames\\\\1-21.jpg',\n",
       " 'C:\\\\Users\\\\sunja\\\\OneDrive\\\\Documents\\\\Sem2\\\\Big Data\\\\videos\\\\frames\\\\1-23.jpg',\n",
       " 'C:\\\\Users\\\\sunja\\\\OneDrive\\\\Documents\\\\Sem2\\\\Big Data\\\\videos\\\\frames\\\\1-24.jpg',\n",
       " 'C:\\\\Users\\\\sunja\\\\OneDrive\\\\Documents\\\\Sem2\\\\Big Data\\\\videos\\\\frames\\\\1-26.jpg',\n",
       " 'C:\\\\Users\\\\sunja\\\\OneDrive\\\\Documents\\\\Sem2\\\\Big Data\\\\videos\\\\frames\\\\1-28.jpg',\n",
       " 'C:\\\\Users\\\\sunja\\\\OneDrive\\\\Documents\\\\Sem2\\\\Big Data\\\\videos\\\\frames\\\\1-29.jpg',\n",
       " 'C:\\\\Users\\\\sunja\\\\OneDrive\\\\Documents\\\\Sem2\\\\Big Data\\\\videos\\\\frames\\\\1-31.jpg',\n",
       " 'C:\\\\Users\\\\sunja\\\\OneDrive\\\\Documents\\\\Sem2\\\\Big Data\\\\videos\\\\frames\\\\1-33.jpg',\n",
       " 'C:\\\\Users\\\\sunja\\\\OneDrive\\\\Documents\\\\Sem2\\\\Big Data\\\\videos\\\\frames\\\\1-34.jpg',\n",
       " 'C:\\\\Users\\\\sunja\\\\OneDrive\\\\Documents\\\\Sem2\\\\Big Data\\\\videos\\\\frames\\\\1-36.jpg',\n",
       " 'C:\\\\Users\\\\sunja\\\\OneDrive\\\\Documents\\\\Sem2\\\\Big Data\\\\videos\\\\frames\\\\1-38.jpg',\n",
       " 'C:\\\\Users\\\\sunja\\\\OneDrive\\\\Documents\\\\Sem2\\\\Big Data\\\\videos\\\\frames\\\\1-39.jpg',\n",
       " 'C:\\\\Users\\\\sunja\\\\OneDrive\\\\Documents\\\\Sem2\\\\Big Data\\\\videos\\\\frames\\\\1-41.jpg',\n",
       " 'C:\\\\Users\\\\sunja\\\\OneDrive\\\\Documents\\\\Sem2\\\\Big Data\\\\videos\\\\frames\\\\1-42.jpg',\n",
       " 'C:\\\\Users\\\\sunja\\\\OneDrive\\\\Documents\\\\Sem2\\\\Big Data\\\\videos\\\\frames\\\\1-44.jpg',\n",
       " 'C:\\\\Users\\\\sunja\\\\OneDrive\\\\Documents\\\\Sem2\\\\Big Data\\\\videos\\\\frames\\\\1-46.jpg',\n",
       " 'C:\\\\Users\\\\sunja\\\\OneDrive\\\\Documents\\\\Sem2\\\\Big Data\\\\videos\\\\frames\\\\1-47.jpg',\n",
       " 'C:\\\\Users\\\\sunja\\\\OneDrive\\\\Documents\\\\Sem2\\\\Big Data\\\\videos\\\\frames\\\\1-49.jpg',\n",
       " 'C:\\\\Users\\\\sunja\\\\OneDrive\\\\Documents\\\\Sem2\\\\Big Data\\\\videos\\\\frames\\\\1-51.jpg',\n",
       " 'C:\\\\Users\\\\sunja\\\\OneDrive\\\\Documents\\\\Sem2\\\\Big Data\\\\videos\\\\frames\\\\1-52.jpg',\n",
       " 'C:\\\\Users\\\\sunja\\\\OneDrive\\\\Documents\\\\Sem2\\\\Big Data\\\\videos\\\\frames\\\\1-54.jpg',\n",
       " 'C:\\\\Users\\\\sunja\\\\OneDrive\\\\Documents\\\\Sem2\\\\Big Data\\\\videos\\\\frames\\\\1-56.jpg',\n",
       " 'C:\\\\Users\\\\sunja\\\\OneDrive\\\\Documents\\\\Sem2\\\\Big Data\\\\videos\\\\frames\\\\1-57.jpg',\n",
       " 'C:\\\\Users\\\\sunja\\\\OneDrive\\\\Documents\\\\Sem2\\\\Big Data\\\\videos\\\\frames\\\\1-59.jpg',\n",
       " 'C:\\\\Users\\\\sunja\\\\OneDrive\\\\Documents\\\\Sem2\\\\Big Data\\\\videos\\\\frames\\\\1-60.jpg',\n",
       " 'C:\\\\Users\\\\sunja\\\\OneDrive\\\\Documents\\\\Sem2\\\\Big Data\\\\videos\\\\frames\\\\1-62.jpg',\n",
       " 'C:\\\\Users\\\\sunja\\\\OneDrive\\\\Documents\\\\Sem2\\\\Big Data\\\\videos\\\\frames\\\\1-64.jpg',\n",
       " 'C:\\\\Users\\\\sunja\\\\OneDrive\\\\Documents\\\\Sem2\\\\Big Data\\\\videos\\\\frames\\\\1-65.jpg',\n",
       " 'C:\\\\Users\\\\sunja\\\\OneDrive\\\\Documents\\\\Sem2\\\\Big Data\\\\videos\\\\frames\\\\1-67.jpg',\n",
       " 'C:\\\\Users\\\\sunja\\\\OneDrive\\\\Documents\\\\Sem2\\\\Big Data\\\\videos\\\\frames\\\\1-69.jpg',\n",
       " 'C:\\\\Users\\\\sunja\\\\OneDrive\\\\Documents\\\\Sem2\\\\Big Data\\\\videos\\\\frames\\\\1-70.jpg',\n",
       " 'C:\\\\Users\\\\sunja\\\\OneDrive\\\\Documents\\\\Sem2\\\\Big Data\\\\videos\\\\frames\\\\1-72.jpg',\n",
       " 'C:\\\\Users\\\\sunja\\\\OneDrive\\\\Documents\\\\Sem2\\\\Big Data\\\\videos\\\\frames\\\\1-73.jpg',\n",
       " 'C:\\\\Users\\\\sunja\\\\OneDrive\\\\Documents\\\\Sem2\\\\Big Data\\\\videos\\\\frames\\\\1-75.jpg',\n",
       " 'C:\\\\Users\\\\sunja\\\\OneDrive\\\\Documents\\\\Sem2\\\\Big Data\\\\videos\\\\frames\\\\1-77.jpg',\n",
       " 'C:\\\\Users\\\\sunja\\\\OneDrive\\\\Documents\\\\Sem2\\\\Big Data\\\\videos\\\\frames\\\\1-78.jpg',\n",
       " 'C:\\\\Users\\\\sunja\\\\OneDrive\\\\Documents\\\\Sem2\\\\Big Data\\\\videos\\\\frames\\\\2-0.jpg']"
      ]
     },
     "execution_count": 64,
     "metadata": {},
     "output_type": "execute_result"
    }
   ],
   "source": [
    "image_list"
   ]
  },
  {
   "cell_type": "code",
   "execution_count": null,
   "id": "28105e5c",
   "metadata": {},
   "outputs": [],
   "source": []
  },
  {
   "cell_type": "code",
   "execution_count": null,
   "id": "86e4235d",
   "metadata": {},
   "outputs": [],
   "source": []
  }
 ],
 "metadata": {
  "kernelspec": {
   "display_name": "Python 3",
   "language": "python",
   "name": "python3"
  },
  "language_info": {
   "codemirror_mode": {
    "name": "ipython",
    "version": 3
   },
   "file_extension": ".py",
   "mimetype": "text/x-python",
   "name": "python",
   "nbconvert_exporter": "python",
   "pygments_lexer": "ipython3",
   "version": "3.8.8"
  },
  "toc": {
   "base_numbering": 1,
   "nav_menu": {},
   "number_sections": true,
   "sideBar": true,
   "skip_h1_title": false,
   "title_cell": "Table of Contents",
   "title_sidebar": "Contents",
   "toc_cell": false,
   "toc_position": {},
   "toc_section_display": true,
   "toc_window_display": false
  }
 },
 "nbformat": 4,
 "nbformat_minor": 5
}
